{
 "cells": [
  {
   "cell_type": "code",
   "execution_count": 13,
   "metadata": {},
   "outputs": [],
   "source": [
    "import pandas as pd\n",
    "import numpy as np\n",
    "import datetime as dt\n",
    "# Python SQL toolkit and Object Relational Mapper\n",
    "import sqlalchemy\n",
    "from sqlalchemy.ext.automap import automap_base\n",
    "from sqlalchemy.orm import Session\n",
    "from sqlalchemy import create_engine, func, inspect, desc\n",
    "from flask import Flask, jsonify\n",
    "import json\n",
    "from flask import request"
   ]
  },
  {
   "cell_type": "code",
   "execution_count": 14,
   "metadata": {},
   "outputs": [],
   "source": [
    "engine = create_engine(\"sqlite:///Resources/hawaii.sqlite\")\n",
    "# reflect an existing database into a new model\n",
    "Base = automap_base()\n",
    "# reflect the tables\n",
    "Base.prepare(engine, reflect=True)"
   ]
  },
  {
   "cell_type": "code",
   "execution_count": 15,
   "metadata": {},
   "outputs": [],
   "source": [
    "# Save references to each table\n",
    "Measurement = Base.classes.measurement\n",
    "Station = Base.classes.station"
   ]
  },
  {
   "cell_type": "code",
   "execution_count": 16,
   "metadata": {},
   "outputs": [],
   "source": [
    "# Create our session (link) from Python to the DB\n",
    "session = Session(engine)"
   ]
  },
  {
   "cell_type": "code",
   "execution_count": 17,
   "metadata": {},
   "outputs": [],
   "source": [
    "# Flask Setup\n",
    "app = Flask(__name__)"
   ]
  },
  {
   "cell_type": "code",
   "execution_count": 18,
   "metadata": {},
   "outputs": [],
   "source": [
    "\n",
    "@app.route(\"/\")\n",
    "def  homepg():\n",
    "    \"\"\"Listing of the available API routes\"\"\"\n",
    "    return(\n",
    "        f\"Available Routes: <br/>\"\n",
    "        f\"/api/v1.0/precipitation <br/>\"\n",
    "        f\"/api/v1.0/stations <br/>\"\n",
    "        f\"/api/v1.0/tobs <br/>\"\n",
    "        f\"/api/v1.0/<start><br/>\"\n",
    "        f\"/api/v1.0/<start>/<end>\"\n",
    "    )"
   ]
  },
  {
   "cell_type": "code",
   "execution_count": 19,
   "metadata": {},
   "outputs": [],
   "source": [
    "@app.route(\"/api/v1.0/precipitation\")\n",
    "def precipitation():\n",
    "    \"\"\"Query for the dates and temps for the last year\"\"\"\n",
    "    \n",
    "    # Query the database for dates and tobs\n",
    "    prcp_results = session.query(Measurement.date, Measurement.tobs).\\\n",
    "    filter(Measurement.date > '2017-01-01').all()\n",
    "    \n",
    "    # Create dictionary from row data and append to the list 'all_prcp'\n",
    "    all_prcp = []\n",
    "    for prcp in prcp_results:\n",
    "        prcp_dict = {}\n",
    "        prcp_dict[\"Date\"] = Measurement.date\n",
    "        prcp_dict[\"TOBS\"] = Measurement.tobs\n",
    "        all_prcp.append(prcp_dict)\n",
    "    return jsonify(all_prcp)"
   ]
  },
  {
   "cell_type": "code",
   "execution_count": 20,
   "metadata": {},
   "outputs": [],
   "source": [
    "@app.route(\"/api/v1.0/stations\" )\n",
    "def stations():\n",
    "    \"\"\"Returns a list of stations from the dataset in JSON format\"\"\"\n",
    "    \n",
    "    station_results = session.query(Station.station).all()\n",
    "    \n",
    "    # Convert the list of tuples into a normal list:\n",
    "    all_stations = list(np.ravel(station_results))\n",
    "    \n",
    "    return jsonify(all_stations)"
   ]
  },
  {
   "cell_type": "code",
   "execution_count": 21,
   "metadata": {},
   "outputs": [],
   "source": [
    "@app.route(\"/api/v1.0/tobs\" )\n",
    "def tobs():\n",
    "    \"\"\"Returns a list of temperature observations from the last year in JSON format \"\"\"\n",
    "    \n",
    "    #Query database for tobs for last year\n",
    "    tobs_results = session.query(Measurement.tobs).filter(Measurement.date > '2017-01-01').all()\n",
    "    \n",
    "    # Convert the list of tuples into normal list:\n",
    "    all_tobs = list(np.ravel(tobs_results))\n",
    "    \n",
    "    return jsonify(all_tobs)"
   ]
  },
  {
   "cell_type": "code",
   "execution_count": 22,
   "metadata": {},
   "outputs": [],
   "source": [
    "@app.route(\"/api/v1.0/<start_date>/<end_date>/\" )\n",
    "def dates(start_date, end_date):\n",
    "    \"\"\"Return the avg, max, min, temp over a specific time period in JSON format \"\"\"\n",
    "    \n",
    "    #Query database for tobs for last year\n",
    "    date_results = session.query(func.avg(Measurement.tobs),func.max(Measurement.tobs), func.min(Measurement.tobs)).\\\n",
    "    filter(Measurement.date >= start_date, Measurement.date <= end_date).all()\n",
    "    \n",
    "    # Convert the list of tuples into normal list:\n",
    "    date_list = []\n",
    "                                 \n",
    "    for result in results:\n",
    "        row = {}\n",
    "        row[\"Start Date\"] = start_date\n",
    "        row[\"End Date\"] = end_date\n",
    "        row[\"Average Temperature\"] = float(result[0])\n",
    "        row[\"Highest Temperature\"] = float(result[1])\n",
    "        row[\"Lowest Temperature\"] = float(result[2])\n",
    "        date_list.append(row)\n",
    "    \n",
    "    return jsonify(date_list)"
   ]
  },
  {
   "cell_type": "code",
   "execution_count": 25,
   "metadata": {},
   "outputs": [],
   "source": [
    "#if( __name__ == \"__main__\"):\n",
    " #   app.run(port = 5545, debug=True)"
   ]
  },
  {
   "cell_type": "code",
   "execution_count": null,
   "metadata": {},
   "outputs": [],
   "source": []
  }
 ],
 "metadata": {
  "kernelspec": {
   "display_name": "Python 3",
   "language": "python",
   "name": "python3"
  },
  "language_info": {
   "codemirror_mode": {
    "name": "ipython",
    "version": 3
   },
   "file_extension": ".py",
   "mimetype": "text/x-python",
   "name": "python",
   "nbconvert_exporter": "python",
   "pygments_lexer": "ipython3",
   "version": "3.6.4"
  }
 },
 "nbformat": 4,
 "nbformat_minor": 2
}
